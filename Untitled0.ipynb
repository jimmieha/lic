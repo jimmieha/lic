{
 "metadata": {
  "name": ""
 },
 "nbformat": 3,
 "nbformat_minor": 0,
 "worksheets": [
  {
   "cells": [
    {
     "cell_type": "code",
     "collapsed": false,
     "input": [
      "a, b = 3.3, 5.3\n",
      "#b=5.3 \n",
      "a2 = a**2\n",
      "b2 = b**2\n",
      "eq1_sum = a2 + 2*a*b + b2\n",
      "eq2_sum = a2 - 2*a*b + b2\n",
      "eq1_pow = (a + b)**2\n",
      "eq2_pow = (a - b)**2\n",
      "print \"First equation: %g = %g\" % (eq1_sum, eq1_pow)\n",
      "print 'Second equation: %.2f = %.2f' % (eq2_sum, eq2_pow)"
     ],
     "language": "python",
     "metadata": {},
     "outputs": [
      {
       "output_type": "stream",
       "stream": "stdout",
       "text": [
        "First equation: 73.96 = 73.96\n",
        "Second equation: 4.00 = 4.00\n"
       ]
      }
     ],
     "prompt_number": 22
    },
    {
     "cell_type": "code",
     "collapsed": false,
     "input": [],
     "language": "python",
     "metadata": {},
     "outputs": []
    }
   ],
   "metadata": {}
  }
 ]
}